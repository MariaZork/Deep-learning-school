{
 "cells": [
  {
   "cell_type": "markdown",
   "metadata": {},
   "source": [
    "### Двойной факториал\n",
    "\n",
    "Дано натуральное N<100. Выведите число N!! — произведение всех нечётных натуральных чисел, не превосходящих N.\n",
    "\n",
    "Sample Input:\n",
    "\n",
    "25\n",
    "\n",
    "Sample Output:\n",
    "\n",
    "7905853580625"
   ]
  },
  {
   "cell_type": "code",
   "execution_count": 23,
   "metadata": {},
   "outputs": [
    {
     "name": "stdout",
     "output_type": "stream",
     "text": [
      "25\n",
      "7905853580625\n"
     ]
    }
   ],
   "source": [
    "N = int(input())\n",
    "\n",
    "def double_factorial(n):\n",
    "    res = 1\n",
    "    for i in range(1, n+1, 2):\n",
    "            res *= i\n",
    "    return res  \n",
    "\n",
    "#     if n == 0 or n == 1:\n",
    "#         return 1\n",
    "#     else:\n",
    "#         return double_factorial(n-2)*n\n",
    "            \n",
    "N_double_fact = double_factorial(N)\n",
    "\n",
    "print(N_double_fact)"
   ]
  },
  {
   "cell_type": "markdown",
   "metadata": {},
   "source": [
    "### Хитрая сортировка\n",
    " \n",
    "\n",
    "Пусть у нас есть следующий список, в котором элементы -- tuple из строк:\n",
    "\n",
    "items = [('one', 'two'), ('three', 'four'), ('five', 'six'), ('string', 'a')]\n",
    "Мы хотим отсортировать этот список по последней букве второго элемента каждого tuple, т.е. получить такой список:\n",
    "\n",
    "sorted_items = [ ('string', 'a'), ('one', 'two'), ('three', 'four'), ('five', 'six'),]\n",
    "Что нужно вставить вместо \"###\" в следующем выражении, чтобы получить сортировку?\n",
    "\n",
    "sorted_items = sorted(items, key=lambda x: ###)\n",
    " \n",
    "\n",
    "P.S. в ответе не должно фигурировать слово 'len'"
   ]
  },
  {
   "cell_type": "code",
   "execution_count": 24,
   "metadata": {},
   "outputs": [
    {
     "name": "stdout",
     "output_type": "stream",
     "text": [
      "[('string', 'a'), ('one', 'two'), ('three', 'four'), ('five', 'six')]\n"
     ]
    }
   ],
   "source": [
    "items = [('one', 'two'), ('three', 'four'), ('five', 'six'), ('string', 'a')] \n",
    "sorted_items = sorted(items, key=lambda x: x[1][-1])\n",
    "print(sorted_items)"
   ]
  },
  {
   "cell_type": "markdown",
   "metadata": {},
   "source": [
    "### Слайсы\n",
    " \n",
    "\n",
    "Дан код:\n",
    "\n",
    "x = [1, 2, 3, 4, 5]\n",
    "\n",
    "x[###] = [-1, -3, -5]\n",
    "\n",
    "print(x)\n",
    "Напишите слайс вместо ###, чтобы на экран вывелось:\n",
    "\n",
    "[-5, 2, -3, 4, -1]"
   ]
  },
  {
   "cell_type": "code",
   "execution_count": 38,
   "metadata": {},
   "outputs": [
    {
     "name": "stdout",
     "output_type": "stream",
     "text": [
      "[-5, 2, -3, 4, -1]\n"
     ]
    }
   ],
   "source": [
    "x = [1, 2, 3, 4, 5]\n",
    "x[::-2] = [-1, -3, -5]\n",
    "\n",
    "print(x)"
   ]
  },
  {
   "cell_type": "markdown",
   "metadata": {},
   "source": [
    "### Создание массивов\n",
    "\n",
    "Дан массив A[0,…,N−1]. Напишите функцию, принимающую один обязательный аргумент A и один опциональный аргумент erase, по умолчанию равный 1. Возвратите массив B[0,…,N−1], где Bi=A0+…+Ai --- массив частичных сумм массива A. удалите из массива все элементы, равные erase. Постарайтесь сделать это за время O(N) без использования Numpy."
   ]
  },
  {
   "cell_type": "code",
   "execution_count": 56,
   "metadata": {},
   "outputs": [
    {
     "name": "stdout",
     "output_type": "stream",
     "text": [
      "[3, 6, 10, 15]\n"
     ]
    }
   ],
   "source": [
    "def cumsum_and_erase(A, erase=1):\n",
    "    B = list()\n",
    "    cum_sum = 0\n",
    "    for i in range(len(A)):\n",
    "        cum_sum += A[i]\n",
    "        if cum_sum == erase:\n",
    "            continue\n",
    "        B.append(cum_sum)\n",
    "    return B\n",
    "\n",
    "A = [1, 2, 3, 4, 5]\n",
    "print(cumsum_and_erase(A, erase=1))"
   ]
  },
  {
   "cell_type": "markdown",
   "metadata": {},
   "source": [
    "### Обработка текста\n",
    "\n",
    "Дан список текстов, слова в которых разделены пробелами (можно считать, что знаков препинания нет). Часть слов является \"мусорными\": в них присутствуют цифры и спецсимволы. Отфильтруйте такие слова из каждого текста. Используйте функции str.split, str.isalpha, list.join, а также генератор filter."
   ]
  },
  {
   "cell_type": "code",
   "execution_count": 75,
   "metadata": {},
   "outputs": [
    {
     "name": "stdout",
     "output_type": "stream",
     "text": [
      "['World', 'Hello', 'How are you']\n"
     ]
    }
   ],
   "source": [
    "def process(sentences):\n",
    "    result = []\n",
    "    for i in range(len(sentences)):\n",
    "        result.append(\n",
    "            \" \".join(\n",
    "                list(filter(lambda x: x.isalpha(), sentences[i].split()))\n",
    "            )\n",
    "        )\n",
    "    return result\n",
    "\n",
    "\n",
    "sentences = [\"Hello, World 123\", \"Hello John123\", 'How are you']\n",
    "print(process(sentences))"
   ]
  },
  {
   "cell_type": "markdown",
   "metadata": {},
   "source": [
    "### Собственный класс \"Нейрон\"\n",
    "\n",
    "Реализуйте класс \"Нейрон\", у которого будет несколько методов: \n",
    "\n",
    " __init__. Принимает на вход массив весов нейрона --- w=(w1,…,wn), а также функцию активации f (аргумент по умолчанию f(x)=x). Сохраняет веса и функцию внутри класса.\n",
    "forward. Принимает на вход массив x=(x1,…,xN) --- входы нейрона. Возвращает f(w1x1+…+wnxn).\n",
    "backlog. Возвращает массив x, который подавался на вход функции forward при её последнем вызове."
   ]
  },
  {
   "cell_type": "code",
   "execution_count": 119,
   "metadata": {},
   "outputs": [
    {
     "name": "stdout",
     "output_type": "stream",
     "text": [
      "0.19016608890364933\n",
      "[ True  True  True  True  True  True  True  True  True  True]\n"
     ]
    }
   ],
   "source": [
    "import numpy as np\n",
    "\n",
    "class Neuron:\n",
    "    def __init__(self, w, f = lambda x: x):\n",
    "        self.w = w\n",
    "        self.f = f\n",
    "        \n",
    "    def forward(self, x):\n",
    "        self.x = x\n",
    "        neuron_output = self.f(np.dot(self.w, self.x))\n",
    "        return neuron_output\n",
    "    \n",
    "    def backlog(self):\n",
    "        return self.x\n",
    "        \n",
    "mu, sigma = 0, 0.1\n",
    "weights = np.random.normal(mu, sigma, 10)\n",
    "x = np.random.random_sample(10)\n",
    "\n",
    "neuron = Neuron(weights)\n",
    "res = neuron.forward(x)\n",
    "print(res)\n",
    "print(x == neuron.backlog())"
   ]
  },
  {
   "cell_type": "code",
   "execution_count": null,
   "metadata": {},
   "outputs": [],
   "source": []
  },
  {
   "cell_type": "code",
   "execution_count": null,
   "metadata": {},
   "outputs": [],
   "source": []
  }
 ],
 "metadata": {
  "kernelspec": {
   "display_name": "Python 3",
   "language": "python",
   "name": "python3"
  },
  "language_info": {
   "codemirror_mode": {
    "name": "ipython",
    "version": 3
   },
   "file_extension": ".py",
   "mimetype": "text/x-python",
   "name": "python",
   "nbconvert_exporter": "python",
   "pygments_lexer": "ipython3",
   "version": "3.6.8"
  }
 },
 "nbformat": 4,
 "nbformat_minor": 2
}
