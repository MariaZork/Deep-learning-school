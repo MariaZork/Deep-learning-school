{
 "cells": [
  {
   "cell_type": "code",
   "execution_count": 1,
   "metadata": {},
   "outputs": [],
   "source": [
    "import numpy as np"
   ]
  },
  {
   "cell_type": "code",
   "execution_count": 2,
   "metadata": {},
   "outputs": [],
   "source": [
    "A= np.array([[5, 1, -2, 0], [0, 3, 4, 3], [2, 3, 1, 1]])"
   ]
  },
  {
   "cell_type": "code",
   "execution_count": 3,
   "metadata": {},
   "outputs": [],
   "source": [
    "B = np.array([[1, -3], [2, -2], [3, -1], [0, 0]])"
   ]
  },
  {
   "cell_type": "code",
   "execution_count": 4,
   "metadata": {},
   "outputs": [
    {
     "data": {
      "text/plain": [
       "(3, 2)"
      ]
     },
     "execution_count": 4,
     "metadata": {},
     "output_type": "execute_result"
    }
   ],
   "source": [
    "np.dot(A, B).shape"
   ]
  },
  {
   "cell_type": "markdown",
   "metadata": {},
   "source": [
    "**Перемножение матриц**\n",
    "\n",
    "Напишите две функции, каждая из которых перемножает две квадратные матрицы: одна без использования встроенных функций numpy, а другая --- с помощью numpy. На вход обеим задачам подаются объекты типа np.ndarray --- квадратные матрицы одинакового размера. \n",
    "\n",
    "Первая функция должна возвращать список списков, а вторая -- np.array."
   ]
  },
  {
   "cell_type": "code",
   "execution_count": 5,
   "metadata": {},
   "outputs": [
    {
     "name": "stdout",
     "output_type": "stream",
     "text": [
      "[[7, 12], [18, 31]]\n",
      "[[ 7 12]\n",
      " [18 31]]\n"
     ]
    }
   ],
   "source": [
    "def no_numpy_mult(first, second):\n",
    "    \"\"\"\n",
    "    param first: list of \"size\" lists, each contains \"size\" floats\n",
    "    param first: list of \"size\" lists, each contains \"size\" floats\n",
    "    \"\"\"\n",
    "    rows_first = len(first)\n",
    "    cols_first = len(first[0])\n",
    "    rows_second = len(second)\n",
    "    cols_second = len(second[0])\n",
    "    \n",
    "    if cols_first != rows_second:\n",
    "        return []\n",
    "    \n",
    "    a = [[0 for row in range(cols_second)] for col in range(rows_first)]\n",
    "\n",
    "    for i in range(rows_first):\n",
    "        for j in range(cols_second):\n",
    "            for k in range(cols_first):\n",
    "                a[i][j] += first[i][k]*second[k][j]\n",
    "    result = a \n",
    "    return result\n",
    "\n",
    "def numpy_mult(first, second):\n",
    "    \"\"\"\n",
    "    param first: np.array[size, size]\n",
    "    param second: np.array[size, size]\n",
    "    \"\"\"\n",
    "    result = np.dot(first, second)\n",
    "    return result\n",
    "\n",
    "A = [[1, 2], [3, 5]]\n",
    "B = [[1, 2], [3, 5]]\n",
    "print(no_numpy_mult(A, B))\n",
    "\n",
    "A = np.array([[1, 2], [3, 5]])\n",
    "B = np.array([[1, 2], [3, 5]])\n",
    "print(numpy_mult(A, B))"
   ]
  },
  {
   "cell_type": "markdown",
   "metadata": {},
   "source": [
    "**Скалярное произведение**\n",
    "\n",
    "Вам подаются на вход два вектора a и b в трехмерном пространстве. Реализуйте их скалярное произведение с помощью numpy и без. "
   ]
  },
  {
   "cell_type": "code",
   "execution_count": 6,
   "metadata": {},
   "outputs": [
    {
     "name": "stdout",
     "output_type": "stream",
     "text": [
      "39\n",
      "39\n"
     ]
    }
   ],
   "source": [
    "def no_numpy_scalar(v1, v2):\n",
    "    if len(v1) == len(v2):\n",
    "        result = sum([v1[i]*v2[i] for i in range(len(v1))])\n",
    "        return result\n",
    "    return\n",
    "\n",
    "def numpy_scalar(v1, v2):\n",
    "    result = np.dot(v1, v2)\n",
    "    return result\n",
    "\n",
    "A = [1, 2, 3, 5]\n",
    "B = [1, 2, 3, 5]\n",
    "print(no_numpy_scalar(A, B))\n",
    "\n",
    "A = np.array([1, 2, 3, 5])\n",
    "B = np.array([1, 2, 3, 5])\n",
    "print(numpy_scalar(A, B))"
   ]
  },
  {
   "cell_type": "markdown",
   "metadata": {},
   "source": [
    "Напишите функцию, которая находим сумму четных диагональных элементов квадратной матрицы (именно чётных элементов, а не элементов на чётных позициях!). Если чётных элементов нет, то вывести 0. Используйте библиотеку numpy."
   ]
  },
  {
   "cell_type": "code",
   "execution_count": 7,
   "metadata": {},
   "outputs": [
    {
     "name": "stdout",
     "output_type": "stream",
     "text": [
      "0\n"
     ]
    }
   ],
   "source": [
    "def diag_2k(a):\n",
    "    summa = 0\n",
    "    d = np.diag(a)\n",
    "    \n",
    "    for item in d:\n",
    "        if item % 2 == 0:\n",
    "            summa += item\n",
    "    \n",
    "    result = summa\n",
    "    return result\n",
    "\n",
    "A = [[1, 7, 6], [5, 1, 8], [1, 3, 1]]\n",
    "print(diag_2k(A))"
   ]
  },
  {
   "cell_type": "markdown",
   "metadata": {},
   "source": [
    "На вход дан двумерный массив X. Напишите функцию, которая для каждой строчки x=(x1,x2,…,xn) массива X строит строчку s=(s1,s2,…,sn), где sk=x1+...+xk, а затем выдаёт массив из построенных строчек. Используйте библиотеку numpy (вам поможет функция cumsum). Выходом функции должен быть двумерный массив той же формы, что и X."
   ]
  },
  {
   "cell_type": "code",
   "execution_count": 8,
   "metadata": {},
   "outputs": [
    {
     "name": "stdout",
     "output_type": "stream",
     "text": [
      "[[ 1  8 14]\n",
      " [ 5  6 14]\n",
      " [ 1  4  5]]\n"
     ]
    }
   ],
   "source": [
    "def cumsum(A):\n",
    "    result = np.zeros_like(A)\n",
    "    for i in range(len(A)):\n",
    "        result[i, :] = np.cumsum(A[i])\n",
    "    return result\n",
    "\n",
    "A = [[1, 7, 6], [5, 1, 8], [1, 3, 1]]\n",
    "print(cumsum(A))"
   ]
  },
  {
   "cell_type": "markdown",
   "metadata": {},
   "source": [
    "С помощью numpy написать функцию для кодирование массива (Run-length encoding). Все подряд повторения элементов функция сжимает в один элемент и считает количество повторений. Функция возвращает кортеж из двух векторов одинаковой длины. Первый содержит элементы, а второй — сколько раз их нужно повторить.\n",
    "\n",
    "Пример: encode(np.array([1, 2, 2, 3, 3, 1, 1, 5, 5, 2, 3, 3])) = (np.array[1, 2, 3, 1, 5, 2, 3]), np.array[1, 2, 2, 2, 2, 1, 2])"
   ]
  },
  {
   "cell_type": "code",
   "execution_count": 9,
   "metadata": {},
   "outputs": [
    {
     "name": "stdout",
     "output_type": "stream",
     "text": [
      "(array([1, 2, 3, 1, 5, 2, 3]), array([1, 2, 2, 2, 2, 1, 2], dtype=int64))\n"
     ]
    }
   ],
   "source": [
    "def encode(a):\n",
    "    ia = np.asarray(a)\n",
    "    n = len(ia)\n",
    "    if n == 0: \n",
    "        return (None, None)\n",
    "    else:\n",
    "        y = np.array(ia[1:] != ia[:-1])\n",
    "        i = np.append(np.where(y), n - 1)\n",
    "        z = np.diff(np.append(-1, i))\n",
    "        return(ia[i], z)\n",
    "\n",
    "A = np.array([1, 2, 2, 3, 3, 1, 1, 5, 5, 2, 3, 3])\n",
    "print(encode(A))"
   ]
  },
  {
   "cell_type": "markdown",
   "metadata": {},
   "source": [
    "**Склеивание**\n",
    "\n",
    "Задан одномерный массив X. Необходимо построить новый массив, где все элементы с нечетными индексами требуется заменить на число a (значение по умолчанию a=1). Все элементы с четными индексами нужно возвести в куб. Затем записать элементы в обратном порядке относительно их позиций. В конце требуется слить массив X с преобразованным X и вернуть на выход.\n",
    "\n",
    "Напишите функцию, которая выполняет данное преобразование. Массив X при этом должен остаться без изменений.\n",
    "\n",
    "Используйте библиотеку numpy.\n",
    "\n",
    "Пример:\n",
    "x = [100,200,300,400,500] -> [100,a,300,a,500] -> [5003,a,3003,a,1003] -> склеиваем -> [100,200,300,400,500,5003,a,3003,a,1003]"
   ]
  },
  {
   "cell_type": "code",
   "execution_count": 10,
   "metadata": {},
   "outputs": [
    {
     "name": "stdout",
     "output_type": "stream",
     "text": [
      "[array([      100,       200,       300,       400,       500, 125000000,\n",
      "               1,  27000000,         1,   1000000])]\n",
      "[array([      100,       200,       300,       400,       500, 125000000,\n",
      "               1,  27000000,         1,   1000000]), array([  1,   2,   4,   5,   6, 216,   1,  64,   1,   1])]\n"
     ]
    }
   ],
   "source": [
    "import copy\n",
    "\n",
    "def transform(X, a=1):\n",
    "    \"\"\"\n",
    "    param X: np.array\n",
    "    \"\"\"\n",
    "    result = []\n",
    "    \n",
    "    if len(X.shape) == 1:\n",
    "        X = np.expand_dims(X, axis=0)\n",
    "    \n",
    "    for idx, arr in enumerate(X):\n",
    "        Y = copy.deepcopy(arr)\n",
    "        Y[1::2] = a\n",
    "        Y[::2] = arr[::2]**3\n",
    "        Y = Y[::-1]\n",
    "        result.append(np.hstack((arr,Y)))\n",
    "    \n",
    "    return result\n",
    "\n",
    "x = np.array([100,200,300,400,500])\n",
    "print(transform(x, 1))\n",
    "# Вывод:\n",
    "# [      100       200       300       400       500 125000000         1\n",
    "#  27000000         1   1000000]\n",
    "\n",
    "x = np.array([[100,200,300,400,500], [1, 2, 4, 5, 6]])\n",
    "print(transform(x, 1))\n",
    "# Вывод:\n",
    "# [[      100       200       300       400       500 125000000         1\n",
    "#   27000000         1   1000000]\n",
    "# [        1         2         4         5         6       216         1\n",
    "#         64         1         1]]"
   ]
  },
  {
   "cell_type": "code",
   "execution_count": null,
   "metadata": {},
   "outputs": [],
   "source": []
  }
 ],
 "metadata": {
  "kernelspec": {
   "display_name": "Python 3",
   "language": "python",
   "name": "python3"
  },
  "language_info": {
   "codemirror_mode": {
    "name": "ipython",
    "version": 3
   },
   "file_extension": ".py",
   "mimetype": "text/x-python",
   "name": "python",
   "nbconvert_exporter": "python",
   "pygments_lexer": "ipython3",
   "version": "3.6.8"
  }
 },
 "nbformat": 4,
 "nbformat_minor": 2
}
